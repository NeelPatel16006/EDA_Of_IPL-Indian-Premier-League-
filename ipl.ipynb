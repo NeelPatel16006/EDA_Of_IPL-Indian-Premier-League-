{
 "cells": [
  {
   "cell_type": "code",
   "execution_count": 1,
   "metadata": {},
   "outputs": [],
   "source": [
    "import pandas as pd\n",
    "import numpy as np\n",
    "import matplotlib.pyplot as plt"
   ]
  },
  {
   "cell_type": "markdown",
   "metadata": {},
   "source": [
    "# Get The data"
   ]
  },
  {
   "cell_type": "code",
   "execution_count": 2,
   "metadata": {},
   "outputs": [
    {
     "data": {
      "text/html": [
       "<div>\n",
       "<style scoped>\n",
       "    .dataframe tbody tr th:only-of-type {\n",
       "        vertical-align: middle;\n",
       "    }\n",
       "\n",
       "    .dataframe tbody tr th {\n",
       "        vertical-align: top;\n",
       "    }\n",
       "\n",
       "    .dataframe thead th {\n",
       "        text-align: right;\n",
       "    }\n",
       "</style>\n",
       "<table border=\"1\" class=\"dataframe\">\n",
       "  <thead>\n",
       "    <tr style=\"text-align: right;\">\n",
       "      <th></th>\n",
       "      <th>id</th>\n",
       "      <th>season</th>\n",
       "      <th>city</th>\n",
       "      <th>date</th>\n",
       "      <th>team1</th>\n",
       "      <th>team2</th>\n",
       "      <th>toss_winner</th>\n",
       "      <th>toss_decision</th>\n",
       "      <th>result</th>\n",
       "      <th>dl_applied</th>\n",
       "      <th>winner</th>\n",
       "      <th>win_by_runs</th>\n",
       "      <th>win_by_wickets</th>\n",
       "      <th>player_of_match</th>\n",
       "      <th>venue</th>\n",
       "      <th>umpire1</th>\n",
       "      <th>umpire2</th>\n",
       "      <th>umpire3</th>\n",
       "    </tr>\n",
       "  </thead>\n",
       "  <tbody>\n",
       "    <tr>\n",
       "      <th>0</th>\n",
       "      <td>1</td>\n",
       "      <td>2017</td>\n",
       "      <td>Hyderabad</td>\n",
       "      <td>2017-04-05</td>\n",
       "      <td>Sunrisers Hyderabad</td>\n",
       "      <td>Royal Challengers Bangalore</td>\n",
       "      <td>Royal Challengers Bangalore</td>\n",
       "      <td>field</td>\n",
       "      <td>normal</td>\n",
       "      <td>0</td>\n",
       "      <td>Sunrisers Hyderabad</td>\n",
       "      <td>35</td>\n",
       "      <td>0</td>\n",
       "      <td>Yuvraj Singh</td>\n",
       "      <td>Rajiv Gandhi International Stadium, Uppal</td>\n",
       "      <td>AY Dandekar</td>\n",
       "      <td>NJ Llong</td>\n",
       "      <td>NaN</td>\n",
       "    </tr>\n",
       "    <tr>\n",
       "      <th>1</th>\n",
       "      <td>2</td>\n",
       "      <td>2017</td>\n",
       "      <td>Pune</td>\n",
       "      <td>2017-04-06</td>\n",
       "      <td>Mumbai Indians</td>\n",
       "      <td>Rising Pune Supergiant</td>\n",
       "      <td>Rising Pune Supergiant</td>\n",
       "      <td>field</td>\n",
       "      <td>normal</td>\n",
       "      <td>0</td>\n",
       "      <td>Rising Pune Supergiant</td>\n",
       "      <td>0</td>\n",
       "      <td>7</td>\n",
       "      <td>SPD Smith</td>\n",
       "      <td>Maharashtra Cricket Association Stadium</td>\n",
       "      <td>A Nand Kishore</td>\n",
       "      <td>S Ravi</td>\n",
       "      <td>NaN</td>\n",
       "    </tr>\n",
       "    <tr>\n",
       "      <th>2</th>\n",
       "      <td>3</td>\n",
       "      <td>2017</td>\n",
       "      <td>Rajkot</td>\n",
       "      <td>2017-04-07</td>\n",
       "      <td>Gujarat Lions</td>\n",
       "      <td>Kolkata Knight Riders</td>\n",
       "      <td>Kolkata Knight Riders</td>\n",
       "      <td>field</td>\n",
       "      <td>normal</td>\n",
       "      <td>0</td>\n",
       "      <td>Kolkata Knight Riders</td>\n",
       "      <td>0</td>\n",
       "      <td>10</td>\n",
       "      <td>CA Lynn</td>\n",
       "      <td>Saurashtra Cricket Association Stadium</td>\n",
       "      <td>Nitin Menon</td>\n",
       "      <td>CK Nandan</td>\n",
       "      <td>NaN</td>\n",
       "    </tr>\n",
       "    <tr>\n",
       "      <th>3</th>\n",
       "      <td>4</td>\n",
       "      <td>2017</td>\n",
       "      <td>Indore</td>\n",
       "      <td>2017-04-08</td>\n",
       "      <td>Rising Pune Supergiant</td>\n",
       "      <td>Kings XI Punjab</td>\n",
       "      <td>Kings XI Punjab</td>\n",
       "      <td>field</td>\n",
       "      <td>normal</td>\n",
       "      <td>0</td>\n",
       "      <td>Kings XI Punjab</td>\n",
       "      <td>0</td>\n",
       "      <td>6</td>\n",
       "      <td>GJ Maxwell</td>\n",
       "      <td>Holkar Cricket Stadium</td>\n",
       "      <td>AK Chaudhary</td>\n",
       "      <td>C Shamshuddin</td>\n",
       "      <td>NaN</td>\n",
       "    </tr>\n",
       "    <tr>\n",
       "      <th>4</th>\n",
       "      <td>5</td>\n",
       "      <td>2017</td>\n",
       "      <td>Bangalore</td>\n",
       "      <td>2017-04-08</td>\n",
       "      <td>Royal Challengers Bangalore</td>\n",
       "      <td>Delhi Daredevils</td>\n",
       "      <td>Royal Challengers Bangalore</td>\n",
       "      <td>bat</td>\n",
       "      <td>normal</td>\n",
       "      <td>0</td>\n",
       "      <td>Royal Challengers Bangalore</td>\n",
       "      <td>15</td>\n",
       "      <td>0</td>\n",
       "      <td>KM Jadhav</td>\n",
       "      <td>M Chinnaswamy Stadium</td>\n",
       "      <td>NaN</td>\n",
       "      <td>NaN</td>\n",
       "      <td>NaN</td>\n",
       "    </tr>\n",
       "  </tbody>\n",
       "</table>\n",
       "</div>"
      ],
      "text/plain": [
       "   id  season       city        date                        team1  \\\n",
       "0   1    2017  Hyderabad  2017-04-05          Sunrisers Hyderabad   \n",
       "1   2    2017       Pune  2017-04-06               Mumbai Indians   \n",
       "2   3    2017     Rajkot  2017-04-07                Gujarat Lions   \n",
       "3   4    2017     Indore  2017-04-08       Rising Pune Supergiant   \n",
       "4   5    2017  Bangalore  2017-04-08  Royal Challengers Bangalore   \n",
       "\n",
       "                         team2                  toss_winner toss_decision  \\\n",
       "0  Royal Challengers Bangalore  Royal Challengers Bangalore         field   \n",
       "1       Rising Pune Supergiant       Rising Pune Supergiant         field   \n",
       "2        Kolkata Knight Riders        Kolkata Knight Riders         field   \n",
       "3              Kings XI Punjab              Kings XI Punjab         field   \n",
       "4             Delhi Daredevils  Royal Challengers Bangalore           bat   \n",
       "\n",
       "   result  dl_applied                       winner  win_by_runs  \\\n",
       "0  normal           0          Sunrisers Hyderabad           35   \n",
       "1  normal           0       Rising Pune Supergiant            0   \n",
       "2  normal           0        Kolkata Knight Riders            0   \n",
       "3  normal           0              Kings XI Punjab            0   \n",
       "4  normal           0  Royal Challengers Bangalore           15   \n",
       "\n",
       "   win_by_wickets player_of_match                                      venue  \\\n",
       "0               0    Yuvraj Singh  Rajiv Gandhi International Stadium, Uppal   \n",
       "1               7       SPD Smith    Maharashtra Cricket Association Stadium   \n",
       "2              10         CA Lynn     Saurashtra Cricket Association Stadium   \n",
       "3               6      GJ Maxwell                     Holkar Cricket Stadium   \n",
       "4               0       KM Jadhav                      M Chinnaswamy Stadium   \n",
       "\n",
       "          umpire1        umpire2 umpire3  \n",
       "0     AY Dandekar       NJ Llong     NaN  \n",
       "1  A Nand Kishore         S Ravi     NaN  \n",
       "2     Nitin Menon      CK Nandan     NaN  \n",
       "3    AK Chaudhary  C Shamshuddin     NaN  \n",
       "4             NaN            NaN     NaN  "
      ]
     },
     "execution_count": 2,
     "metadata": {},
     "output_type": "execute_result"
    }
   ],
   "source": [
    "df=pd.read_csv('matches.csv')\n",
    "df.head()"
   ]
  },
  {
   "cell_type": "markdown",
   "metadata": {},
   "source": [
    "# Check null vaues"
   ]
  },
  {
   "cell_type": "code",
   "execution_count": 3,
   "metadata": {},
   "outputs": [
    {
     "data": {
      "text/plain": [
       "id                   0\n",
       "season               0\n",
       "city                 7\n",
       "date                 0\n",
       "team1                0\n",
       "team2                0\n",
       "toss_winner          0\n",
       "toss_decision        0\n",
       "result               0\n",
       "dl_applied           0\n",
       "winner               4\n",
       "win_by_runs          0\n",
       "win_by_wickets       0\n",
       "player_of_match      4\n",
       "venue                0\n",
       "umpire1              2\n",
       "umpire2              2\n",
       "umpire3            637\n",
       "dtype: int64"
      ]
     },
     "execution_count": 3,
     "metadata": {},
     "output_type": "execute_result"
    }
   ],
   "source": [
    "df.isnull().sum()"
   ]
  },
  {
   "cell_type": "markdown",
   "metadata": {},
   "source": [
    "# Removing unwanted datas "
   ]
  },
  {
   "cell_type": "code",
   "execution_count": 4,
   "metadata": {},
   "outputs": [
    {
     "data": {
      "text/html": [
       "<div>\n",
       "<style scoped>\n",
       "    .dataframe tbody tr th:only-of-type {\n",
       "        vertical-align: middle;\n",
       "    }\n",
       "\n",
       "    .dataframe tbody tr th {\n",
       "        vertical-align: top;\n",
       "    }\n",
       "\n",
       "    .dataframe thead th {\n",
       "        text-align: right;\n",
       "    }\n",
       "</style>\n",
       "<table border=\"1\" class=\"dataframe\">\n",
       "  <thead>\n",
       "    <tr style=\"text-align: right;\">\n",
       "      <th></th>\n",
       "      <th>id</th>\n",
       "      <th>season</th>\n",
       "      <th>city</th>\n",
       "      <th>date</th>\n",
       "      <th>team1</th>\n",
       "      <th>team2</th>\n",
       "      <th>toss_winner</th>\n",
       "      <th>toss_decision</th>\n",
       "      <th>result</th>\n",
       "      <th>dl_applied</th>\n",
       "      <th>winner</th>\n",
       "      <th>win_by_runs</th>\n",
       "      <th>win_by_wickets</th>\n",
       "      <th>player_of_match</th>\n",
       "      <th>venue</th>\n",
       "      <th>umpire1</th>\n",
       "      <th>umpire2</th>\n",
       "    </tr>\n",
       "  </thead>\n",
       "  <tbody>\n",
       "    <tr>\n",
       "      <th>0</th>\n",
       "      <td>1</td>\n",
       "      <td>2017</td>\n",
       "      <td>Hyderabad</td>\n",
       "      <td>2017-04-05</td>\n",
       "      <td>Sunrisers Hyderabad</td>\n",
       "      <td>Royal Challengers Bangalore</td>\n",
       "      <td>Royal Challengers Bangalore</td>\n",
       "      <td>field</td>\n",
       "      <td>normal</td>\n",
       "      <td>0</td>\n",
       "      <td>Sunrisers Hyderabad</td>\n",
       "      <td>35</td>\n",
       "      <td>0</td>\n",
       "      <td>Yuvraj Singh</td>\n",
       "      <td>Rajiv Gandhi International Stadium, Uppal</td>\n",
       "      <td>AY Dandekar</td>\n",
       "      <td>NJ Llong</td>\n",
       "    </tr>\n",
       "    <tr>\n",
       "      <th>1</th>\n",
       "      <td>2</td>\n",
       "      <td>2017</td>\n",
       "      <td>Pune</td>\n",
       "      <td>2017-04-06</td>\n",
       "      <td>Mumbai Indians</td>\n",
       "      <td>Rising Pune Supergiant</td>\n",
       "      <td>Rising Pune Supergiant</td>\n",
       "      <td>field</td>\n",
       "      <td>normal</td>\n",
       "      <td>0</td>\n",
       "      <td>Rising Pune Supergiant</td>\n",
       "      <td>0</td>\n",
       "      <td>7</td>\n",
       "      <td>SPD Smith</td>\n",
       "      <td>Maharashtra Cricket Association Stadium</td>\n",
       "      <td>A Nand Kishore</td>\n",
       "      <td>S Ravi</td>\n",
       "    </tr>\n",
       "    <tr>\n",
       "      <th>2</th>\n",
       "      <td>3</td>\n",
       "      <td>2017</td>\n",
       "      <td>Rajkot</td>\n",
       "      <td>2017-04-07</td>\n",
       "      <td>Gujarat Lions</td>\n",
       "      <td>Kolkata Knight Riders</td>\n",
       "      <td>Kolkata Knight Riders</td>\n",
       "      <td>field</td>\n",
       "      <td>normal</td>\n",
       "      <td>0</td>\n",
       "      <td>Kolkata Knight Riders</td>\n",
       "      <td>0</td>\n",
       "      <td>10</td>\n",
       "      <td>CA Lynn</td>\n",
       "      <td>Saurashtra Cricket Association Stadium</td>\n",
       "      <td>Nitin Menon</td>\n",
       "      <td>CK Nandan</td>\n",
       "    </tr>\n",
       "    <tr>\n",
       "      <th>3</th>\n",
       "      <td>4</td>\n",
       "      <td>2017</td>\n",
       "      <td>Indore</td>\n",
       "      <td>2017-04-08</td>\n",
       "      <td>Rising Pune Supergiant</td>\n",
       "      <td>Kings XI Punjab</td>\n",
       "      <td>Kings XI Punjab</td>\n",
       "      <td>field</td>\n",
       "      <td>normal</td>\n",
       "      <td>0</td>\n",
       "      <td>Kings XI Punjab</td>\n",
       "      <td>0</td>\n",
       "      <td>6</td>\n",
       "      <td>GJ Maxwell</td>\n",
       "      <td>Holkar Cricket Stadium</td>\n",
       "      <td>AK Chaudhary</td>\n",
       "      <td>C Shamshuddin</td>\n",
       "    </tr>\n",
       "    <tr>\n",
       "      <th>4</th>\n",
       "      <td>5</td>\n",
       "      <td>2017</td>\n",
       "      <td>Bangalore</td>\n",
       "      <td>2017-04-08</td>\n",
       "      <td>Royal Challengers Bangalore</td>\n",
       "      <td>Delhi Daredevils</td>\n",
       "      <td>Royal Challengers Bangalore</td>\n",
       "      <td>bat</td>\n",
       "      <td>normal</td>\n",
       "      <td>0</td>\n",
       "      <td>Royal Challengers Bangalore</td>\n",
       "      <td>15</td>\n",
       "      <td>0</td>\n",
       "      <td>KM Jadhav</td>\n",
       "      <td>M Chinnaswamy Stadium</td>\n",
       "      <td>NaN</td>\n",
       "      <td>NaN</td>\n",
       "    </tr>\n",
       "    <tr>\n",
       "      <th>...</th>\n",
       "      <td>...</td>\n",
       "      <td>...</td>\n",
       "      <td>...</td>\n",
       "      <td>...</td>\n",
       "      <td>...</td>\n",
       "      <td>...</td>\n",
       "      <td>...</td>\n",
       "      <td>...</td>\n",
       "      <td>...</td>\n",
       "      <td>...</td>\n",
       "      <td>...</td>\n",
       "      <td>...</td>\n",
       "      <td>...</td>\n",
       "      <td>...</td>\n",
       "      <td>...</td>\n",
       "      <td>...</td>\n",
       "      <td>...</td>\n",
       "    </tr>\n",
       "    <tr>\n",
       "      <th>751</th>\n",
       "      <td>11347</td>\n",
       "      <td>2019</td>\n",
       "      <td>Mumbai</td>\n",
       "      <td>05/05/19</td>\n",
       "      <td>Kolkata Knight Riders</td>\n",
       "      <td>Mumbai Indians</td>\n",
       "      <td>Mumbai Indians</td>\n",
       "      <td>field</td>\n",
       "      <td>normal</td>\n",
       "      <td>0</td>\n",
       "      <td>Mumbai Indians</td>\n",
       "      <td>0</td>\n",
       "      <td>9</td>\n",
       "      <td>HH Pandya</td>\n",
       "      <td>Wankhede Stadium</td>\n",
       "      <td>Nanda Kishore</td>\n",
       "      <td>O Nandan</td>\n",
       "    </tr>\n",
       "    <tr>\n",
       "      <th>752</th>\n",
       "      <td>11412</td>\n",
       "      <td>2019</td>\n",
       "      <td>Chennai</td>\n",
       "      <td>07/05/19</td>\n",
       "      <td>Chennai Super Kings</td>\n",
       "      <td>Mumbai Indians</td>\n",
       "      <td>Chennai Super Kings</td>\n",
       "      <td>bat</td>\n",
       "      <td>normal</td>\n",
       "      <td>0</td>\n",
       "      <td>Mumbai Indians</td>\n",
       "      <td>0</td>\n",
       "      <td>6</td>\n",
       "      <td>AS Yadav</td>\n",
       "      <td>M. A. Chidambaram Stadium</td>\n",
       "      <td>Nigel Llong</td>\n",
       "      <td>Nitin Menon</td>\n",
       "    </tr>\n",
       "    <tr>\n",
       "      <th>753</th>\n",
       "      <td>11413</td>\n",
       "      <td>2019</td>\n",
       "      <td>Visakhapatnam</td>\n",
       "      <td>08/05/19</td>\n",
       "      <td>Sunrisers Hyderabad</td>\n",
       "      <td>Delhi Capitals</td>\n",
       "      <td>Delhi Capitals</td>\n",
       "      <td>field</td>\n",
       "      <td>normal</td>\n",
       "      <td>0</td>\n",
       "      <td>Delhi Capitals</td>\n",
       "      <td>0</td>\n",
       "      <td>2</td>\n",
       "      <td>RR Pant</td>\n",
       "      <td>ACA-VDCA Stadium</td>\n",
       "      <td>NaN</td>\n",
       "      <td>NaN</td>\n",
       "    </tr>\n",
       "    <tr>\n",
       "      <th>754</th>\n",
       "      <td>11414</td>\n",
       "      <td>2019</td>\n",
       "      <td>Visakhapatnam</td>\n",
       "      <td>10/05/19</td>\n",
       "      <td>Delhi Capitals</td>\n",
       "      <td>Chennai Super Kings</td>\n",
       "      <td>Chennai Super Kings</td>\n",
       "      <td>field</td>\n",
       "      <td>normal</td>\n",
       "      <td>0</td>\n",
       "      <td>Chennai Super Kings</td>\n",
       "      <td>0</td>\n",
       "      <td>6</td>\n",
       "      <td>F du Plessis</td>\n",
       "      <td>ACA-VDCA Stadium</td>\n",
       "      <td>Sundaram Ravi</td>\n",
       "      <td>Bruce Oxenford</td>\n",
       "    </tr>\n",
       "    <tr>\n",
       "      <th>755</th>\n",
       "      <td>11415</td>\n",
       "      <td>2019</td>\n",
       "      <td>Hyderabad</td>\n",
       "      <td>12/05/19</td>\n",
       "      <td>Mumbai Indians</td>\n",
       "      <td>Chennai Super Kings</td>\n",
       "      <td>Mumbai Indians</td>\n",
       "      <td>bat</td>\n",
       "      <td>normal</td>\n",
       "      <td>0</td>\n",
       "      <td>Mumbai Indians</td>\n",
       "      <td>1</td>\n",
       "      <td>0</td>\n",
       "      <td>JJ Bumrah</td>\n",
       "      <td>Rajiv Gandhi Intl. Cricket Stadium</td>\n",
       "      <td>Nitin Menon</td>\n",
       "      <td>Ian Gould</td>\n",
       "    </tr>\n",
       "  </tbody>\n",
       "</table>\n",
       "<p>756 rows × 17 columns</p>\n",
       "</div>"
      ],
      "text/plain": [
       "        id  season           city        date                        team1  \\\n",
       "0        1    2017      Hyderabad  2017-04-05          Sunrisers Hyderabad   \n",
       "1        2    2017           Pune  2017-04-06               Mumbai Indians   \n",
       "2        3    2017         Rajkot  2017-04-07                Gujarat Lions   \n",
       "3        4    2017         Indore  2017-04-08       Rising Pune Supergiant   \n",
       "4        5    2017      Bangalore  2017-04-08  Royal Challengers Bangalore   \n",
       "..     ...     ...            ...         ...                          ...   \n",
       "751  11347    2019         Mumbai    05/05/19        Kolkata Knight Riders   \n",
       "752  11412    2019        Chennai    07/05/19          Chennai Super Kings   \n",
       "753  11413    2019  Visakhapatnam    08/05/19          Sunrisers Hyderabad   \n",
       "754  11414    2019  Visakhapatnam    10/05/19               Delhi Capitals   \n",
       "755  11415    2019      Hyderabad    12/05/19               Mumbai Indians   \n",
       "\n",
       "                           team2                  toss_winner toss_decision  \\\n",
       "0    Royal Challengers Bangalore  Royal Challengers Bangalore         field   \n",
       "1         Rising Pune Supergiant       Rising Pune Supergiant         field   \n",
       "2          Kolkata Knight Riders        Kolkata Knight Riders         field   \n",
       "3                Kings XI Punjab              Kings XI Punjab         field   \n",
       "4               Delhi Daredevils  Royal Challengers Bangalore           bat   \n",
       "..                           ...                          ...           ...   \n",
       "751               Mumbai Indians               Mumbai Indians         field   \n",
       "752               Mumbai Indians          Chennai Super Kings           bat   \n",
       "753               Delhi Capitals               Delhi Capitals         field   \n",
       "754          Chennai Super Kings          Chennai Super Kings         field   \n",
       "755          Chennai Super Kings               Mumbai Indians           bat   \n",
       "\n",
       "     result  dl_applied                       winner  win_by_runs  \\\n",
       "0    normal           0          Sunrisers Hyderabad           35   \n",
       "1    normal           0       Rising Pune Supergiant            0   \n",
       "2    normal           0        Kolkata Knight Riders            0   \n",
       "3    normal           0              Kings XI Punjab            0   \n",
       "4    normal           0  Royal Challengers Bangalore           15   \n",
       "..      ...         ...                          ...          ...   \n",
       "751  normal           0               Mumbai Indians            0   \n",
       "752  normal           0               Mumbai Indians            0   \n",
       "753  normal           0               Delhi Capitals            0   \n",
       "754  normal           0          Chennai Super Kings            0   \n",
       "755  normal           0               Mumbai Indians            1   \n",
       "\n",
       "     win_by_wickets player_of_match  \\\n",
       "0                 0    Yuvraj Singh   \n",
       "1                 7       SPD Smith   \n",
       "2                10         CA Lynn   \n",
       "3                 6      GJ Maxwell   \n",
       "4                 0       KM Jadhav   \n",
       "..              ...             ...   \n",
       "751               9       HH Pandya   \n",
       "752               6        AS Yadav   \n",
       "753               2         RR Pant   \n",
       "754               6    F du Plessis   \n",
       "755               0       JJ Bumrah   \n",
       "\n",
       "                                         venue         umpire1         umpire2  \n",
       "0    Rajiv Gandhi International Stadium, Uppal     AY Dandekar        NJ Llong  \n",
       "1      Maharashtra Cricket Association Stadium  A Nand Kishore          S Ravi  \n",
       "2       Saurashtra Cricket Association Stadium     Nitin Menon       CK Nandan  \n",
       "3                       Holkar Cricket Stadium    AK Chaudhary   C Shamshuddin  \n",
       "4                        M Chinnaswamy Stadium             NaN             NaN  \n",
       "..                                         ...             ...             ...  \n",
       "751                           Wankhede Stadium   Nanda Kishore        O Nandan  \n",
       "752                  M. A. Chidambaram Stadium     Nigel Llong     Nitin Menon  \n",
       "753                           ACA-VDCA Stadium             NaN             NaN  \n",
       "754                           ACA-VDCA Stadium   Sundaram Ravi  Bruce Oxenford  \n",
       "755         Rajiv Gandhi Intl. Cricket Stadium     Nitin Menon       Ian Gould  \n",
       "\n",
       "[756 rows x 17 columns]"
      ]
     },
     "execution_count": 4,
     "metadata": {},
     "output_type": "execute_result"
    }
   ],
   "source": [
    "df.drop(columns=[\"umpire3\"], inplace = True,axis=1)\n",
    "df"
   ]
  },
  {
   "cell_type": "markdown",
   "metadata": {},
   "source": [
    "# Rearrange Data"
   ]
  },
  {
   "cell_type": "markdown",
   "metadata": {},
   "source": [
    "city, umpire1 and umpire2 datas replace by '-' and ,Many teams has changed their names over the years so we consider those as same team (depending on the city)"
   ]
  },
  {
   "cell_type": "code",
   "execution_count": 5,
   "metadata": {},
   "outputs": [],
   "source": [
    "df.city=df.city.fillna(\"-\")\n",
    "df.umpire1=df.umpire1.fillna(\"-\")\n",
    "df.umpire2=df.umpire2.fillna(\"-\")\n",
    "df = df.replace('Rising Pune Supergiants', 'Rising Pune Supergiant')\n",
    "df = df.replace('Pune Warriors', 'Rising Pune Supergiant')\n",
    "df = df.replace('Deccan Chargers', 'Sunrisers Hyderabad')\n",
    "df = df.replace('Delhi Capitals', 'Delhi Daredevils')"
   ]
  },
  {
   "cell_type": "markdown",
   "metadata": {},
   "source": [
    "# Drop null vaues"
   ]
  },
  {
   "cell_type": "code",
   "execution_count": 6,
   "metadata": {},
   "outputs": [
    {
     "data": {
      "text/plain": [
       "id                 0\n",
       "season             0\n",
       "city               0\n",
       "date               0\n",
       "team1              0\n",
       "team2              0\n",
       "toss_winner        0\n",
       "toss_decision      0\n",
       "result             0\n",
       "dl_applied         0\n",
       "winner             0\n",
       "win_by_runs        0\n",
       "win_by_wickets     0\n",
       "player_of_match    0\n",
       "venue              0\n",
       "umpire1            0\n",
       "umpire2            0\n",
       "dtype: int64"
      ]
     },
     "execution_count": 6,
     "metadata": {},
     "output_type": "execute_result"
    }
   ],
   "source": [
    "df.dropna(inplace=True)\n",
    "df.isnull().sum()"
   ]
  },
  {
   "cell_type": "code",
   "execution_count": 7,
   "metadata": {},
   "outputs": [
    {
     "data": {
      "text/html": [
       "<div>\n",
       "<style scoped>\n",
       "    .dataframe tbody tr th:only-of-type {\n",
       "        vertical-align: middle;\n",
       "    }\n",
       "\n",
       "    .dataframe tbody tr th {\n",
       "        vertical-align: top;\n",
       "    }\n",
       "\n",
       "    .dataframe thead th {\n",
       "        text-align: right;\n",
       "    }\n",
       "</style>\n",
       "<table border=\"1\" class=\"dataframe\">\n",
       "  <thead>\n",
       "    <tr style=\"text-align: right;\">\n",
       "      <th></th>\n",
       "      <th>count</th>\n",
       "      <th>mean</th>\n",
       "      <th>std</th>\n",
       "      <th>min</th>\n",
       "      <th>25%</th>\n",
       "      <th>50%</th>\n",
       "      <th>75%</th>\n",
       "      <th>max</th>\n",
       "    </tr>\n",
       "  </thead>\n",
       "  <tbody>\n",
       "    <tr>\n",
       "      <th>id</th>\n",
       "      <td>752.0</td>\n",
       "      <td>1784.746011</td>\n",
       "      <td>3455.152925</td>\n",
       "      <td>1.0</td>\n",
       "      <td>188.75</td>\n",
       "      <td>377.5</td>\n",
       "      <td>566.25</td>\n",
       "      <td>11415.0</td>\n",
       "    </tr>\n",
       "    <tr>\n",
       "      <th>season</th>\n",
       "      <td>752.0</td>\n",
       "      <td>2013.436170</td>\n",
       "      <td>3.367610</td>\n",
       "      <td>2008.0</td>\n",
       "      <td>2011.00</td>\n",
       "      <td>2013.0</td>\n",
       "      <td>2016.00</td>\n",
       "      <td>2019.0</td>\n",
       "    </tr>\n",
       "    <tr>\n",
       "      <th>dl_applied</th>\n",
       "      <td>752.0</td>\n",
       "      <td>0.025266</td>\n",
       "      <td>0.157036</td>\n",
       "      <td>0.0</td>\n",
       "      <td>0.00</td>\n",
       "      <td>0.0</td>\n",
       "      <td>0.00</td>\n",
       "      <td>1.0</td>\n",
       "    </tr>\n",
       "    <tr>\n",
       "      <th>win_by_runs</th>\n",
       "      <td>752.0</td>\n",
       "      <td>13.353723</td>\n",
       "      <td>23.513486</td>\n",
       "      <td>0.0</td>\n",
       "      <td>0.00</td>\n",
       "      <td>0.0</td>\n",
       "      <td>19.00</td>\n",
       "      <td>146.0</td>\n",
       "    </tr>\n",
       "    <tr>\n",
       "      <th>win_by_wickets</th>\n",
       "      <td>752.0</td>\n",
       "      <td>3.368351</td>\n",
       "      <td>3.388114</td>\n",
       "      <td>0.0</td>\n",
       "      <td>0.00</td>\n",
       "      <td>4.0</td>\n",
       "      <td>6.00</td>\n",
       "      <td>10.0</td>\n",
       "    </tr>\n",
       "  </tbody>\n",
       "</table>\n",
       "</div>"
      ],
      "text/plain": [
       "                count         mean          std     min      25%     50%  \\\n",
       "id              752.0  1784.746011  3455.152925     1.0   188.75   377.5   \n",
       "season          752.0  2013.436170     3.367610  2008.0  2011.00  2013.0   \n",
       "dl_applied      752.0     0.025266     0.157036     0.0     0.00     0.0   \n",
       "win_by_runs     752.0    13.353723    23.513486     0.0     0.00     0.0   \n",
       "win_by_wickets  752.0     3.368351     3.388114     0.0     0.00     4.0   \n",
       "\n",
       "                    75%      max  \n",
       "id               566.25  11415.0  \n",
       "season          2016.00   2019.0  \n",
       "dl_applied         0.00      1.0  \n",
       "win_by_runs       19.00    146.0  \n",
       "win_by_wickets     6.00     10.0  "
      ]
     },
     "execution_count": 7,
     "metadata": {},
     "output_type": "execute_result"
    }
   ],
   "source": [
    "df.describe().T"
   ]
  },
  {
   "cell_type": "markdown",
   "metadata": {},
   "source": [
    "# Number of matches played in each year"
   ]
  },
  {
   "cell_type": "code",
   "execution_count": 9,
   "metadata": {},
   "outputs": [
    {
     "data": {
      "text/plain": [
       "<AxesSubplot:>"
      ]
     },
     "execution_count": 9,
     "metadata": {},
     "output_type": "execute_result"
    },
    {
     "data": {
      "image/png": "[encoded data removed]",
      "text/plain": [
       "<Figure size 432x288 with 1 Axes>"
      ]
     },
     "metadata": {
      "needs_background": "light"
     },
     "output_type": "display_data"
    }
   ],
   "source": [
    "df.season.value_counts().plot(kind='bar')"
   ]
  },
  {
   "cell_type": "markdown",
   "metadata": {},
   "source": [
    "# Top 10 Player of the match winners over the time"
   ]
  },
  {
   "cell_type": "code",
   "execution_count": 9,
   "metadata": {},
   "outputs": [
    {
     "name": "stdout",
     "output_type": "stream",
     "text": [
      "CH Gayle          21\n",
      "AB de Villiers    20\n",
      "RG Sharma         17\n",
      "MS Dhoni          17\n",
      "DA Warner         17\n",
      "YK Pathan         16\n",
      "SR Watson         15\n",
      "SK Raina          14\n",
      "G Gambhir         13\n",
      "V Kohli           12\n",
      "Name: player_of_match, dtype: int64\n"
     ]
    },
    {
     "data": {
      "text/plain": [
       "<AxesSubplot:>"
      ]
     },
     "execution_count": 9,
     "metadata": {},
     "output_type": "execute_result"
    },
    {
     "data": {
      "image/png": "[encoded data removed]",
      "text/plain": [
       "<Figure size 432x288 with 1 Axes>"
      ]
     },
     "metadata": {
      "needs_background": "light"
     },
     "output_type": "display_data"
    }
   ],
   "source": [
    "player_of_match=df['player_of_match'].value_counts()\n",
    "print(player_of_match[:10])\n",
    "player_of_match[:10].plot(kind='barh')"
   ]
  },
  {
   "cell_type": "markdown",
   "metadata": {},
   "source": [
    "# Who won the most number of matches"
   ]
  },
  {
   "cell_type": "code",
   "execution_count": 10,
   "metadata": {},
   "outputs": [
    {
     "name": "stdout",
     "output_type": "stream",
     "text": [
      "Mumbai Indians                 109\n",
      "Chennai Super Kings            100\n",
      "Kolkata Knight Riders           92\n",
      "Sunrisers Hyderabad             87\n",
      "Royal Challengers Bangalore     84\n",
      "Kings XI Punjab                 82\n",
      "Delhi Daredevils                77\n",
      "Rajasthan Royals                75\n",
      "Rising Pune Supergiant          27\n",
      "Gujarat Lions                   13\n",
      "Kochi Tuskers Kerala             6\n",
      "Name: winner, dtype: int64\n"
     ]
    },
    {
     "data": {
      "text/plain": [
       "<AxesSubplot:>"
      ]
     },
     "execution_count": 10,
     "metadata": {},
     "output_type": "execute_result"
    },
    {
     "data": {
      "image/png": "[encoded data removed]",
      "text/plain": [
       "<Figure size 432x288 with 1 Axes>"
      ]
     },
     "metadata": {
      "needs_background": "light"
     },
     "output_type": "display_data"
    }
   ],
   "source": [
    "match_winner=df['winner'].value_counts()\n",
    "print(match_winner)\n",
    "match_winner.plot(kind='barh')"
   ]
  },
  {
   "cell_type": "markdown",
   "metadata": {},
   "source": [
    "# Most matches won in particular season"
   ]
  },
  {
   "cell_type": "code",
   "execution_count": 11,
   "metadata": {},
   "outputs": [
    {
     "name": "stdout",
     "output_type": "stream",
     "text": [
      "Enter year:2019\n"
     ]
    },
    {
     "data": {
      "text/plain": [
       "<AxesSubplot:>"
      ]
     },
     "execution_count": 11,
     "metadata": {},
     "output_type": "execute_result"
    },
    {
     "data": {
      "image/png": "[encoded data removed]",
      "text/plain": [
       "<Figure size 432x288 with 1 Axes>"
      ]
     },
     "metadata": {
      "needs_background": "light"
     },
     "output_type": "display_data"
    }
   ],
   "source": [
    "year=int(input(\"Enter year:\"))\n",
    "df.loc[df.season==year,\"winner\"].value_counts().plot(kind='barh')"
   ]
  },
  {
   "cell_type": "markdown",
   "metadata": {},
   "source": [
    "# After winning the toss, what decision is taken bat or field"
   ]
  },
  {
   "cell_type": "code",
   "execution_count": 12,
   "metadata": {},
   "outputs": [
    {
     "data": {
      "text/plain": [
       "season  toss_decision\n",
       "2008    field            32\n",
       "        bat              26\n",
       "2009    bat              35\n",
       "        field            22\n",
       "2010    bat              39\n",
       "        field            21\n",
       "2011    field            48\n",
       "        bat              24\n",
       "2012    bat              37\n",
       "        field            37\n",
       "2013    bat              45\n",
       "        field            31\n",
       "2014    field            41\n",
       "        bat              19\n",
       "2015    field            32\n",
       "        bat              25\n",
       "2016    field            49\n",
       "        bat              11\n",
       "2017    field            48\n",
       "        bat              11\n",
       "2018    field            50\n",
       "        bat              10\n",
       "2019    field            49\n",
       "        bat              10\n",
       "Name: toss_decision, dtype: int64"
      ]
     },
     "execution_count": 12,
     "metadata": {},
     "output_type": "execute_result"
    }
   ],
   "source": [
    "# toss_dec=df.toss_decision.value_counts()\n",
    "# print(toss_dec)\n",
    "# toss_dec.plot(kind=\"barh\")\n",
    "df.groupby('season')['toss_decision'].value_counts()"
   ]
  },
  {
   "cell_type": "markdown",
   "metadata": {},
   "source": [
    "# Which team won most number of matches with the margin of more than 50 runs"
   ]
  },
  {
   "cell_type": "code",
   "execution_count": 13,
   "metadata": {},
   "outputs": [
    {
     "data": {
      "text/plain": [
       "<AxesSubplot:>"
      ]
     },
     "execution_count": 13,
     "metadata": {},
     "output_type": "execute_result"
    },
    {
     "data": {
      "image/png": "[encoded data removed]",
      "text/plain": [
       "<Figure size 432x288 with 1 Axes>"
      ]
     },
     "metadata": {
      "needs_background": "light"
     },
     "output_type": "display_data"
    }
   ],
   "source": [
    "m_winner=df.loc[df['win_by_runs']>50,'winner'].value_counts()\n",
    "m_winner.plot(kind='barh')"
   ]
  },
  {
   "cell_type": "markdown",
   "metadata": {},
   "source": [
    "# Which team won most number of matches with the margin of more than 5 wickets"
   ]
  },
  {
   "cell_type": "code",
   "execution_count": 14,
   "metadata": {},
   "outputs": [
    {
     "data": {
      "text/plain": [
       "<AxesSubplot:>"
      ]
     },
     "execution_count": 14,
     "metadata": {},
     "output_type": "execute_result"
    },
    {
     "data": {
      "image/png": "[encoded data removed]",
      "text/plain": [
       "<Figure size 432x288 with 1 Axes>"
      ]
     },
     "metadata": {
      "needs_background": "light"
     },
     "output_type": "display_data"
    }
   ],
   "source": [
    "w=df.loc[df['win_by_wickets']>5,'winner'].value_counts()\n",
    "w.plot(kind='bar')"
   ]
  },
  {
   "cell_type": "markdown",
   "metadata": {},
   "source": [
    "# Toss winner won the match? which team did the best?"
   ]
  },
  {
   "cell_type": "code",
   "execution_count": 15,
   "metadata": {},
   "outputs": [
    {
     "name": "stdout",
     "output_type": "stream",
     "text": [
      "Chennai Super Kings            57\n",
      "Mumbai Indians                 56\n",
      "Kolkata Knight Riders          53\n",
      "Delhi Daredevils               42\n",
      "Sunrisers Hyderabad            42\n",
      "Rajasthan Royals               42\n",
      "Royal Challengers Bangalore    41\n",
      "Kings XI Punjab                35\n",
      "Rising Pune Supergiant         11\n",
      "Gujarat Lions                  10\n",
      "Kochi Tuskers Kerala            4\n",
      "Name: winner, dtype: int64\n"
     ]
    },
    {
     "data": {
      "image/png": "[encoded data removed]",
      "text/plain": [
       "<Figure size 432x288 with 1 Axes>"
      ]
     },
     "metadata": {
      "needs_background": "light"
     },
     "output_type": "display_data"
    }
   ],
   "source": [
    "df.loc[df.toss_winner==df.winner,'winner'].value_counts().plot(kind='bar')\n",
    "print(df.loc[df.toss_winner==df.winner,'winner'].value_counts())"
   ]
  },
  {
   "cell_type": "markdown",
   "metadata": {},
   "source": [
    "# Team to team record"
   ]
  },
  {
   "cell_type": "code",
   "execution_count": 16,
   "metadata": {},
   "outputs": [
    {
     "name": "stdout",
     "output_type": "stream",
     "text": [
      "Chennai Super Kings            6\n",
      "Royal Challengers Bangalore    4\n",
      "Name: winner, dtype: int64\n",
      "Chennai Super Kings       3\n",
      "Rising Pune Supergiant    1\n",
      "Name: winner, dtype: int64\n",
      "Kolkata Knight Riders    7\n",
      "Chennai Super Kings      5\n",
      "Name: winner, dtype: int64\n",
      "Chennai Super Kings    7\n",
      "Kings XI Punjab        4\n",
      "Name: winner, dtype: int64\n",
      "Chennai Super Kings    9\n",
      "Delhi Daredevils       4\n",
      "Name: winner, dtype: int64\n",
      "Chennai Super Kings    8\n",
      "Sunrisers Hyderabad    5\n",
      "Name: winner, dtype: int64\n",
      "Mumbai Indians         7\n",
      "Chennai Super Kings    5\n",
      "Name: winner, dtype: int64\n",
      "Chennai Super Kings    7\n",
      "Rajasthan Royals       5\n",
      "Name: winner, dtype: int64\n",
      "Kochi Tuskers Kerala    1\n",
      "Chennai Super Kings     1\n",
      "Name: winner, dtype: int64\n",
      "Royal Challengers Bangalore    8\n",
      "Delhi Daredevils               4\n",
      "Name: winner, dtype: int64\n",
      "Delhi Daredevils          3\n",
      "Rising Pune Supergiant    2\n",
      "Name: winner, dtype: int64\n",
      "Kolkata Knight Riders    7\n",
      "Delhi Daredevils         3\n",
      "Name: winner, dtype: int64\n",
      "Kings XI Punjab     9\n",
      "Delhi Daredevils    2\n",
      "Name: winner, dtype: int64\n",
      "Sunrisers Hyderabad    7\n",
      "Delhi Daredevils       4\n",
      "Name: winner, dtype: int64\n",
      "Delhi Daredevils    5\n",
      "Mumbai Indians      2\n",
      "Name: winner, dtype: int64\n",
      "Rajasthan Royals    6\n",
      "Delhi Daredevils    4\n",
      "Name: winner, dtype: int64\n",
      "Chennai Super Kings    6\n",
      "Delhi Daredevils       2\n",
      "Name: winner, dtype: int64\n",
      "Kochi Tuskers Kerala    1\n",
      "Delhi Daredevils        1\n",
      "Name: winner, dtype: int64\n",
      "Royal Challengers Bangalore    1\n",
      "Name: winner, dtype: int64\n",
      "Rising Pune Supergiant    1\n",
      "Name: winner, dtype: int64\n",
      "Kolkata Knight Riders    1\n",
      "Name: winner, dtype: int64\n",
      "Delhi Daredevils    3\n",
      "Gujarat Lions       1\n",
      "Name: winner, dtype: int64\n",
      "Sunrisers Hyderabad    5\n",
      "Name: winner, dtype: int64\n",
      "Mumbai Indians    2\n",
      "Name: winner, dtype: int64\n",
      "Royal Challengers Bangalore    6\n",
      "Kings XI Punjab                4\n",
      "Name: winner, dtype: int64\n",
      "Rising Pune Supergiant    4\n",
      "Name: winner, dtype: int64\n",
      "Kolkata Knight Riders    12\n",
      "Kings XI Punjab           5\n",
      "Name: winner, dtype: int64\n",
      "Delhi Daredevils    8\n",
      "Kings XI Punjab     5\n",
      "Name: winner, dtype: int64\n",
      "Sunrisers Hyderabad    4\n",
      "Kings XI Punjab        4\n",
      "Name: winner, dtype: int64\n",
      "Mumbai Indians     8\n",
      "Kings XI Punjab    7\n",
      "Name: winner, dtype: int64\n",
      "Kings XI Punjab    2\n",
      "Gujarat Lions      2\n",
      "Name: winner, dtype: int64\n",
      "Kings XI Punjab     6\n",
      "Rajasthan Royals    4\n",
      "Name: winner, dtype: int64\n",
      "Kings XI Punjab        5\n",
      "Chennai Super Kings    5\n",
      "Name: winner, dtype: int64\n",
      "Royal Challengers Bangalore    2\n",
      "Name: winner, dtype: int64\n",
      "Rising Pune Supergiant    1\n",
      "Name: winner, dtype: int64\n",
      "Kochi Tuskers Kerala    2\n",
      "Name: winner, dtype: int64\n",
      "Kings XI Punjab    1\n",
      "Name: winner, dtype: int64\n",
      "Rajasthan Royals    1\n",
      "Name: winner, dtype: int64\n",
      "Royal Challengers Bangalore    9\n",
      "Kolkata Knight Riders          7\n",
      "Name: winner, dtype: int64\n",
      "Kolkata Knight Riders     3\n",
      "Rising Pune Supergiant    1\n",
      "Name: winner, dtype: int64\n",
      "Kolkata Knight Riders    5\n",
      "Kings XI Punjab          3\n",
      "Name: winner, dtype: int64\n",
      "Delhi Daredevils         7\n",
      "Kolkata Knight Riders    6\n",
      "Name: winner, dtype: int64\n",
      "Kolkata Knight Riders    9\n",
      "Sunrisers Hyderabad      5\n",
      "Name: winner, dtype: int64\n",
      "Mumbai Indians           11\n",
      "Kolkata Knight Riders     3\n",
      "Name: winner, dtype: int64\n",
      "Gujarat Lions    3\n",
      "Name: winner, dtype: int64\n",
      "Rajasthan Royals         2\n",
      "Kolkata Knight Riders    1\n",
      "Name: winner, dtype: int64\n",
      "Chennai Super Kings    8\n",
      "Name: winner, dtype: int64\n",
      "Mumbai Indians                 8\n",
      "Royal Challengers Bangalore    5\n",
      "Name: winner, dtype: int64\n",
      "Mumbai Indians            4\n",
      "Rising Pune Supergiant    2\n",
      "Name: winner, dtype: int64\n",
      "Mumbai Indians           8\n",
      "Kolkata Knight Riders    3\n",
      "Name: winner, dtype: int64\n",
      "Mumbai Indians     5\n",
      "Kings XI Punjab    4\n",
      "Name: winner, dtype: int64\n",
      "Mumbai Indians      10\n",
      "Delhi Daredevils     7\n",
      "Name: winner, dtype: int64\n",
      "Mumbai Indians         7\n",
      "Sunrisers Hyderabad    5\n",
      "Name: winner, dtype: int64\n",
      "Gujarat Lions    2\n",
      "Name: winner, dtype: int64\n",
      "Rajasthan Royals    8\n",
      "Mumbai Indians      6\n",
      "Name: winner, dtype: int64\n",
      "Mumbai Indians         10\n",
      "Chennai Super Kings     6\n",
      "Name: winner, dtype: int64\n",
      "Kochi Tuskers Kerala    1\n",
      "Name: winner, dtype: int64\n",
      "Royal Challengers Bangalore    5\n",
      "Rajasthan Royals               4\n",
      "Name: winner, dtype: int64\n",
      "Rajasthan Royals          1\n",
      "Rising Pune Supergiant    1\n",
      "Name: winner, dtype: int64\n",
      "Kolkata Knight Riders    9\n",
      "Rajasthan Royals         8\n",
      "Name: winner, dtype: int64\n",
      "Rajasthan Royals    6\n",
      "Kings XI Punjab     3\n",
      "Name: winner, dtype: int64\n",
      "Rajasthan Royals    5\n",
      "Delhi Daredevils    5\n",
      "Name: winner, dtype: int64\n",
      "Sunrisers Hyderabad    3\n",
      "Rajasthan Royals       1\n",
      "Name: winner, dtype: int64\n",
      "Mumbai Indians      4\n",
      "Rajasthan Royals    2\n",
      "Name: winner, dtype: int64\n",
      "Chennai Super Kings    7\n",
      "Rajasthan Royals       2\n",
      "Name: winner, dtype: int64\n",
      "Kochi Tuskers Kerala    1\n",
      "Name: winner, dtype: int64\n",
      "Rising Pune Supergiant         2\n",
      "Royal Challengers Bangalore    2\n",
      "Name: winner, dtype: int64\n",
      "Kolkata Knight Riders     4\n",
      "Rising Pune Supergiant    1\n",
      "Name: winner, dtype: int64\n",
      "Kings XI Punjab           5\n",
      "Rising Pune Supergiant    1\n",
      "Name: winner, dtype: int64\n",
      "Rising Pune Supergiant    2\n",
      "Delhi Daredevils          2\n",
      "Name: winner, dtype: int64\n",
      "Rising Pune Supergiant    1\n",
      "Sunrisers Hyderabad       1\n",
      "Name: winner, dtype: int64\n",
      "Rising Pune Supergiant    3\n",
      "Mumbai Indians            3\n",
      "Name: winner, dtype: int64\n",
      "Gujarat Lions    3\n",
      "Name: winner, dtype: int64\n",
      "Rajasthan Royals    3\n",
      "Name: winner, dtype: int64\n",
      "Rising Pune Supergiant    1\n",
      "Chennai Super Kings       1\n",
      "Name: winner, dtype: int64\n",
      "Royal Challengers Bangalore    5\n",
      "Name: winner, dtype: int64\n",
      "Kolkata Knight Riders          7\n",
      "Royal Challengers Bangalore    1\n",
      "Name: winner, dtype: int64\n",
      "Kings XI Punjab                8\n",
      "Royal Challengers Bangalore    6\n",
      "Name: winner, dtype: int64\n",
      "Royal Challengers Bangalore    6\n",
      "Delhi Daredevils               4\n",
      "Name: winner, dtype: int64\n",
      "Sunrisers Hyderabad            4\n",
      "Royal Challengers Bangalore    4\n",
      "Name: winner, dtype: int64\n",
      "Mumbai Indians                 8\n",
      "Royal Challengers Bangalore    4\n",
      "Name: winner, dtype: int64\n",
      "Royal Challengers Bangalore    2\n",
      "Gujarat Lions                  2\n",
      "Name: winner, dtype: int64\n",
      "Rajasthan Royals               6\n",
      "Royal Challengers Bangalore    3\n",
      "Name: winner, dtype: int64\n",
      "Chennai Super Kings            9\n",
      "Royal Challengers Bangalore    4\n",
      "Name: winner, dtype: int64\n",
      "Sunrisers Hyderabad            10\n",
      "Royal Challengers Bangalore     7\n",
      "Name: winner, dtype: int64\n",
      "Sunrisers Hyderabad       5\n",
      "Rising Pune Supergiant    3\n",
      "Name: winner, dtype: int64\n",
      "Kolkata Knight Riders    8\n",
      "Sunrisers Hyderabad      4\n",
      "Name: winner, dtype: int64\n",
      "Sunrisers Hyderabad    9\n",
      "Kings XI Punjab        7\n",
      "Name: winner, dtype: int64\n",
      "Delhi Daredevils       9\n",
      "Sunrisers Hyderabad    6\n",
      "Name: winner, dtype: int64\n",
      "Sunrisers Hyderabad    6\n",
      "Mumbai Indians         6\n",
      "Name: winner, dtype: int64\n",
      "Rajasthan Royals       11\n",
      "Sunrisers Hyderabad     5\n",
      "Name: winner, dtype: int64\n",
      "Chennai Super Kings    7\n",
      "Sunrisers Hyderabad    2\n",
      "Name: winner, dtype: int64\n",
      "Sunrisers Hyderabad    1\n",
      "Name: winner, dtype: int64\n"
     ]
    }
   ],
   "source": [
    "teams = df.team1.unique().tolist()\n",
    "teams.sort()\n",
    "for team1 in teams:\n",
    "    for team2 in df.team2.unique().tolist():\n",
    "        df_ttw = df.loc[(df[\"team1\"] == team1) & (df[\"team2\"] == team2), \"winner\"]\n",
    "        if len(df_ttw) > 0:\n",
    "            print(df_ttw.value_counts())"
   ]
  },
  {
   "cell_type": "code",
   "execution_count": 17,
   "metadata": {},
   "outputs": [
    {
     "data": {
      "text/plain": [
       "toss_decision  winner                     \n",
       "bat            Chennai Super Kings            52\n",
       "               Mumbai Indians                 45\n",
       "               Kolkata Knight Riders          35\n",
       "               Sunrisers Hyderabad            35\n",
       "               Rajasthan Royals               34\n",
       "               Delhi Daredevils               31\n",
       "               Royal Challengers Bangalore    26\n",
       "               Kings XI Punjab                21\n",
       "               Rising Pune Supergiant         11\n",
       "               Gujarat Lions                   2\n",
       "field          Mumbai Indians                 64\n",
       "               Kings XI Punjab                61\n",
       "               Royal Challengers Bangalore    58\n",
       "               Kolkata Knight Riders          57\n",
       "               Sunrisers Hyderabad            52\n",
       "               Chennai Super Kings            48\n",
       "               Delhi Daredevils               46\n",
       "               Rajasthan Royals               41\n",
       "               Rising Pune Supergiant         16\n",
       "               Gujarat Lions                  11\n",
       "               Kochi Tuskers Kerala            6\n",
       "Name: winner, dtype: int64"
      ]
     },
     "execution_count": 17,
     "metadata": {},
     "output_type": "execute_result"
    }
   ],
   "source": [
    "df.groupby('toss_decision')['winner'].value_counts()"
   ]
  },
  {
   "cell_type": "code",
   "execution_count": 22,
   "metadata": {},
   "outputs": [
    {
     "name": "stdout",
     "output_type": "stream",
     "text": [
      "CH Gayle          21\n",
      "AB de Villiers    20\n",
      "RG Sharma         17\n",
      "MS Dhoni          17\n",
      "DA Warner         17\n",
      "YK Pathan         16\n",
      "SR Watson         15\n",
      "SK Raina          14\n",
      "G Gambhir         13\n",
      "V Kohli           12\n",
      "Name: player_of_match, dtype: int64\n"
     ]
    },
    {
     "data": {
      "image/png": "[encoded data removed]",
      "text/plain": [
       "<Figure size 432x288 with 1 Axes>"
      ]
     },
     "metadata": {
      "needs_background": "light"
     },
     "output_type": "display_data"
    }
   ],
   "source": [
    "df['player_of_match'].value_counts()[:10].plot(kind='barh')\n",
    "print(df['player_of_match'].value_counts()[:10])"
   ]
  },
  {
   "cell_type": "code",
   "execution_count": 43,
   "metadata": {},
   "outputs": [
    {
     "name": "stdout",
     "output_type": "stream",
     "text": [
      "-------------------------------\n",
      "-----Year-2008-----\n",
      "Rajasthan Royals               13\n",
      "Kings XI Punjab                10\n",
      "Chennai Super Kings             9\n",
      "Delhi Daredevils                7\n",
      "Mumbai Indians                  7\n",
      "Kolkata Knight Riders           6\n",
      "Royal Challengers Bangalore     4\n",
      "Sunrisers Hyderabad             2\n",
      "Name: winner, dtype: int64\n",
      "-------------------------------\n",
      "-----Year-2009-----\n",
      "Delhi Daredevils               10\n",
      "Sunrisers Hyderabad             9\n",
      "Royal Challengers Bangalore     9\n",
      "Chennai Super Kings             8\n",
      "Kings XI Punjab                 7\n",
      "Rajasthan Royals                6\n",
      "Mumbai Indians                  5\n",
      "Kolkata Knight Riders           3\n",
      "Name: winner, dtype: int64\n",
      "-------------------------------\n",
      "-----Year-2010-----\n",
      "Mumbai Indians                 11\n",
      "Chennai Super Kings             9\n",
      "Sunrisers Hyderabad             8\n",
      "Royal Challengers Bangalore     8\n",
      "Kolkata Knight Riders           7\n",
      "Delhi Daredevils                7\n",
      "Rajasthan Royals                6\n",
      "Kings XI Punjab                 4\n",
      "Name: winner, dtype: int64\n",
      "-------------------------------\n",
      "-----Year-2011-----\n",
      "Chennai Super Kings            11\n",
      "Royal Challengers Bangalore    10\n",
      "Mumbai Indians                 10\n",
      "Kolkata Knight Riders           8\n",
      "Kings XI Punjab                 7\n",
      "Sunrisers Hyderabad             6\n",
      "Rajasthan Royals                6\n",
      "Kochi Tuskers Kerala            6\n",
      "Rising Pune Supergiant          4\n",
      "Delhi Daredevils                4\n",
      "Name: winner, dtype: int64\n",
      "-------------------------------\n",
      "-----Year-2012-----\n",
      "Kolkata Knight Riders          12\n",
      "Delhi Daredevils               11\n",
      "Chennai Super Kings            10\n",
      "Mumbai Indians                 10\n",
      "Royal Challengers Bangalore     8\n",
      "Kings XI Punjab                 8\n",
      "Rajasthan Royals                7\n",
      "Sunrisers Hyderabad             4\n",
      "Rising Pune Supergiant          4\n",
      "Name: winner, dtype: int64\n",
      "-------------------------------\n",
      "-----Year-2013-----\n",
      "Mumbai Indians                 13\n",
      "Chennai Super Kings            12\n",
      "Rajasthan Royals               11\n",
      "Sunrisers Hyderabad            10\n",
      "Royal Challengers Bangalore     9\n",
      "Kings XI Punjab                 8\n",
      "Kolkata Knight Riders           6\n",
      "Rising Pune Supergiant          4\n",
      "Delhi Daredevils                3\n",
      "Name: winner, dtype: int64\n",
      "-------------------------------\n",
      "-----Year-2014-----\n",
      "Kings XI Punjab                12\n",
      "Kolkata Knight Riders          11\n",
      "Chennai Super Kings            10\n",
      "Rajasthan Royals                7\n",
      "Mumbai Indians                  7\n",
      "Sunrisers Hyderabad             6\n",
      "Royal Challengers Bangalore     5\n",
      "Delhi Daredevils                2\n",
      "Name: winner, dtype: int64\n",
      "-------------------------------\n",
      "-----Year-1015-----\n",
      "Series([], Name: winner, dtype: int64)\n",
      "-------------------------------\n",
      "-----Year-2016-----\n",
      "Sunrisers Hyderabad            11\n",
      "Royal Challengers Bangalore     9\n",
      "Gujarat Lions                   9\n",
      "Kolkata Knight Riders           8\n",
      "Delhi Daredevils                7\n",
      "Mumbai Indians                  7\n",
      "Rising Pune Supergiant          5\n",
      "Kings XI Punjab                 4\n",
      "Name: winner, dtype: int64\n",
      "-------------------------------\n",
      "-----Year-2017-----\n",
      "Mumbai Indians                 12\n",
      "Rising Pune Supergiant         10\n",
      "Kolkata Knight Riders           9\n",
      "Sunrisers Hyderabad             8\n",
      "Kings XI Punjab                 7\n",
      "Delhi Daredevils                6\n",
      "Gujarat Lions                   4\n",
      "Royal Challengers Bangalore     3\n",
      "Name: winner, dtype: int64\n",
      "-------------------------------\n",
      "-----Year-2018-----\n",
      "Chennai Super Kings            11\n",
      "Sunrisers Hyderabad            10\n",
      "Kolkata Knight Riders           9\n",
      "Rajasthan Royals                7\n",
      "Kings XI Punjab                 6\n",
      "Mumbai Indians                  6\n",
      "Royal Challengers Bangalore     6\n",
      "Delhi Daredevils                5\n",
      "Name: winner, dtype: int64\n",
      "-------------------------------\n",
      "-----Year-2019-----\n",
      "Mumbai Indians                 11\n",
      "Chennai Super Kings            10\n",
      "Delhi Daredevils               10\n",
      "Sunrisers Hyderabad             6\n",
      "Kings XI Punjab                 6\n",
      "Kolkata Knight Riders           6\n",
      "Rajasthan Royals                5\n",
      "Royal Challengers Bangalore     5\n",
      "Name: winner, dtype: int64\n"
     ]
    }
   ],
   "source": [
    "years=[2008,2009,2010,2011,2012,2013,2014,1015,2016,2017,2018,2019]\n",
    "for year in years:\n",
    "    print(\"-------------------------------\")\n",
    "    print(f\"-----Year-{year}-----\")\n",
    "    print(df.loc[df.season==year,'winner'].value_counts())"
   ]
  },
  {
   "cell_type": "code",
   "execution_count": null,
   "metadata": {},
   "outputs": [],
   "source": []
  }
 ],
 "metadata": {
  "kernelspec": {
   "display_name": "Python 3",
   "language": "python",
   "name": "python3"
  },
  "language_info": {
   "codemirror_mode": {
    "name": "ipython",
    "version": 3
   },
   "file_extension": ".py",
   "mimetype": "text/x-python",
   "name": "python",
   "nbconvert_exporter": "python",
   "pygments_lexer": "ipython3",
   "version": "3.8.5"
  }
 },
 "nbformat": 4,
 "nbformat_minor": 4
}
